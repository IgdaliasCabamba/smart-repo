{
  "cells": [
    {
      "cell_type": "code",
      "execution_count": null,
      "metadata": {
        "id": "qDWD58r2acxi"
      },
      "outputs": [],
      "source": [
        "!pip install -U jk-pypiorgapi jk-json clean-text"
      ]
    },
    {
      "cell_type": "code",
      "execution_count": null,
      "metadata": {
        "id": "pgS3t0UU7Xs5"
      },
      "outputs": [],
      "source": [
        "!mkdir smart-repo_output"
      ]
    },
    {
      "cell_type": "code",
      "execution_count": 10,
      "metadata": {
        "id": "APFWVCVnromn"
      },
      "outputs": [],
      "source": [
        "!pip freeze > requirements.txt"
      ]
    },
    {
      "cell_type": "code",
      "execution_count": null,
      "metadata": {
        "colab": {
          "base_uri": "https://localhost:8080/"
        },
        "id": "0PH-8px-70Nx",
        "outputId": "f8929951-3549-430b-f8d2-03f736c8838e"
      },
      "outputs": [
        {
          "output_type": "stream",
          "name": "stdout",
          "text": [
            ".  ..  .config\trequirements.txt  sample_data  smart-repo_output\n"
          ]
        }
      ],
      "source": [
        "!ls -a"
      ]
    },
    {
      "cell_type": "code",
      "execution_count": null,
      "metadata": {
        "id": "__xj-S6biGfd"
      },
      "outputs": [],
      "source": [
        "# run this at the first time to touch the files\n",
        "import os.path\n",
        "\n",
        "INDEXES = [\n",
        "           \"0\",\"1\",\"2\",\"3\",\"4\",\"5\",\n",
        "           \"6\",\"7\",\"8\",\"9\",\n",
        "           \"a\",\"b\",\"c\",\"d\",\"e\",\"f\",\n",
        "           \"g\",\"h\",\"i\",\"j\",\"k\",\"l\",\n",
        "           \"m\",\"n\",\"o\",\"p\",\"q\",\"r\",\n",
        "           \"s\",\"t\",\"u\",\"v\",\"w\",\"x\",\n",
        "           \"y\",\"z\"\n",
        "]\n",
        "for i in INDEXES:\n",
        "  with open(os.path.join(\"smart-repo_output\", f\"pypi_api.data.{i}.json\"), \"a\"):\n",
        "    pass"
      ]
    },
    {
      "cell_type": "code",
      "execution_count": null,
      "metadata": {
        "id": "km5mcLDBXDjb"
      },
      "outputs": [],
      "source": [
        "import jk_pypiorgapi\n",
        "import jk_json\n",
        "import json\n",
        "import logging\n",
        "import cleantext.clean\n",
        "import os\n",
        "\n",
        "OUTPUT_PATH = \"smart-repo_output\"\n",
        "BASE_FILE_NAME = \"pypi_api.data.\"\n",
        "\n",
        "INDEXES = [\n",
        "           \"0\",\"1\",\"2\",\"3\",\"4\",\"5\",\n",
        "           \"6\",\"7\",\"8\",\"9\",\n",
        "           \"a\",\"b\",\"c\",\"d\",\"e\",\"f\",\n",
        "           \"g\",\"h\",\"i\",\"j\",\"k\",\"l\",\n",
        "           \"m\",\"n\",\"o\",\"p\",\"q\",\"r\",\n",
        "           \"s\",\"t\",\"u\",\"v\",\"w\",\"x\",\n",
        "           \"y\",\"z\"\n",
        "]\n",
        "\n",
        "logging.basicConfig(\n",
        "    filename='app.log',\n",
        "    filemode='w', format='%(name)s - %(levelname)s - %(message)s'\n",
        ")\n",
        "\n",
        "COMMON_USELESS_INFO:list = [\"UNKNOWN\", \"\", \"...\"]\n",
        "MINIMUM_DOC_LENGTH:int = 24\n",
        "MINIMUM_SUMMARY_LENGTH:int = 16\n",
        "\n",
        "api:object = jk_pypiorgapi.PyPiOrgAPI()\n",
        "\n",
        "PACKAGES:list = api.listAllPackages()\n",
        "logging.info(f'Collected {len(PACKAGES)} packages from PyPi')\n",
        "\n",
        "def get_file_name(char:str) -> str:\n",
        "  return BASE_FILE_NAME+char+\".json\"\n",
        "\n",
        "def clean_data(text:str) -> str:\n",
        "  return cleantext.clean(\n",
        "      text,\n",
        "      fix_unicode=True,\n",
        "      to_ascii=True,\n",
        "      lower=False,\n",
        "      no_line_breaks=False,\n",
        "      no_urls=False,\n",
        "      no_emails=False,\n",
        "      no_phone_numbers=False,\n",
        "      no_numbers=False,\n",
        "      no_digits=False,\n",
        "      no_currency_symbols=False,\n",
        "      no_punct=False,\n",
        "      #replace_with_punct=\"\",\n",
        "      #replace_with_url=\"<URL>\",\n",
        "      #replace_with_email=\"<EMAIL>\",\n",
        "      #replace_with_phone_number=\"<PHONE>\",\n",
        "      #replace_with_number=\"<NUMBER>\",\n",
        "      #replace_with_digit=\"0\",\n",
        "      #replace_with_currency_symbol=\"<CUR>\",\n",
        "      lang=\"en\"                  \n",
        "    )\n",
        "\n",
        "def fetch_data(packages:list, max_packages:int=-1) -> dict:\n",
        "  \n",
        "  num_of_fetched:int = 0\n",
        "  num_of_no_fetched:int = 0\n",
        "  packages_info:dict = {}\n",
        "  \n",
        "  for package in packages:\n",
        "    \n",
        "    package_name:str = package[1]\n",
        "    package_data:dict = api.getPackageInfoJSON(package_name)\n",
        "\n",
        "    try:\n",
        "      package_info:dict = package_data[\"info\"]\n",
        "      description:str = clean_data(package_info[\"description\"])\n",
        "      summary:str = clean_data(package_info[\"summary\"])\n",
        "      if (\n",
        "          len(description) > MINIMUM_DOC_LENGTH\n",
        "          or len(summary) > MINIMUM_SUMMARY_LENGTH\n",
        "          and description not in COMMON_USELESS_INFO\n",
        "        ):\n",
        "        packages_info[package_name] = {\n",
        "            \"author\":package_info[\"author\"],\n",
        "            \"classifiers\":package_info[\"classifiers\"],\n",
        "            \"description\":description,\n",
        "            \"description_content_type\":package_info[\"description_content_type\"],\n",
        "            \"docs_url\":package_info[\"docs_url\"],\n",
        "            \"home_page\":package_info[\"home_page\"],\n",
        "            \"keywords\":package_info[\"keywords\"],\n",
        "            \"license\":package_info[\"license\"],\n",
        "            \"summary\":summary,\n",
        "            \"requires_python\":package_info[\"requires_python\"],\n",
        "            \"version\":package_info[\"version\"],\n",
        "            \"vulnerabilities\":package_data[\"vulnerabilities\"]\n",
        "        }\n",
        "        num_of_fetched += 1\n",
        "        \n",
        "        if max_packages > 0:\n",
        "          if num_of_fetched >= max_packages:\n",
        "            break\n",
        "\n",
        "    except TypeError:\n",
        "      num_of_no_fetched += 1\n",
        "    \n",
        "  return packages_info, num_of_fetched, num_of_no_fetched\n",
        "\n",
        "\n",
        "def save_data(data:dict, filename:str) -> None: \n",
        "  with open(os.path.join(OUTPUT_PATH, filename), \"w\") as fp:\n",
        "    json.dump(data, fp)\n",
        "\n",
        "def show_data(filename:str) -> None:\n",
        "  with open(os.path.join(OUTPUT_PATH, filename), \"r\") as fp:\n",
        "    jk_json.prettyPrint(json.load(fp))\n",
        "\n",
        "def main() -> None:\n",
        "  packages_with_info:int = 0\n",
        "  packages_without_info:int = 0  \n",
        "\n",
        "  for idx in INDEXES:\n",
        "    res = input(f\"Fetch with: {idx}?\\n(Y) to do (S) to skip (N) to quit\\n:[] \").lower()\n",
        "    if res not in {\"n\",\"s\"}:\n",
        "\n",
        "      packages  = filter(lambda x: x[1].startswith(idx), PACKAGES)\n",
        "\n",
        "      data, num_of_fetched, num_of_no_fetched = fetch_data(packages)\n",
        "      packages_with_info += num_of_fetched\n",
        "      packages_without_info += num_of_no_fetched\n",
        "\n",
        "      filename = get_file_name(idx)\n",
        "      save_data(data, filename)\n",
        "      #show_data(filename)\n",
        "      print(f\"done with {idx}\")\n",
        "    \n",
        "    elif res == \"s\":\n",
        "      continue\n",
        "\n",
        "    else:\n",
        "      break\n",
        "\n",
        "  logging.warning(f'Were found {packages_without_info} packages without info')\n",
        "  logging.warning(f'Were found {packages_with_info} packages with info')\n",
        "\n",
        "if __name__ == \"__main__\":\n",
        "  main()"
      ]
    },
    {
      "cell_type": "code",
      "execution_count": null,
      "metadata": {
        "id": "otTwi5h_F_-a"
      },
      "outputs": [],
      "source": [
        "import jk_json\n",
        "import json\n",
        "import os\n",
        "\n",
        "OUTPUT_PATH = \"smart-repo_output\"\n",
        "\n",
        "def show_data(filename:str) -> None:\n",
        "  with open(filename, \"r\") as fp:\n",
        "    jk_json.prettyPrint(json.load(fp))\n",
        "\n",
        "show_data(os.path.join(OUTPUT_PATH, \"pypi_api.data.x.json\"))"
      ]
    }
  ],
  "metadata": {
    "colab": {
      "collapsed_sections": [],
      "name": "pypi_data_loader.ipynb",
      "provenance": []
    },
    "kernelspec": {
      "display_name": "Python 3",
      "name": "python3"
    },
    "language_info": {
      "name": "python"
    }
  },
  "nbformat": 4,
  "nbformat_minor": 0
}