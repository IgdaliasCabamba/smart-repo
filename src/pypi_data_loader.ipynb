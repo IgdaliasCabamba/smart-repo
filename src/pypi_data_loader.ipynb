{
  "nbformat": 4,
  "nbformat_minor": 0,
  "metadata": {
    "colab": {
      "name": "pypi_data_loader.ipynb",
      "provenance": [],
      "collapsed_sections": []
    },
    "kernelspec": {
      "name": "python3",
      "display_name": "Python 3"
    },
    "language_info": {
      "name": "python"
    }
  },
  "cells": [
    {
      "cell_type": "code",
      "source": [
        "!pip install -U jk-pypiorgapi jk-json clean-text"
      ],
      "metadata": {
        "id": "qDWD58r2acxi"
      },
      "execution_count": null,
      "outputs": []
    },
    {
      "cell_type": "code",
      "source": [
        "!pip freeze > requirements.txt"
      ],
      "metadata": {
        "id": "APFWVCVnromn"
      },
      "execution_count": 42,
      "outputs": []
    },
    {
      "cell_type": "code",
      "source": [
        "# run this at the first time to touch the file\n",
        "with open(\"pypi_api.data.json\", \"a\"):\n",
        "  pass"
      ],
      "metadata": {
        "id": "__xj-S6biGfd"
      },
      "execution_count": 25,
      "outputs": []
    },
    {
      "cell_type": "code",
      "source": [
        "import jk_pypiorgapi\n",
        "import jk_json\n",
        "import json\n",
        "import logging\n",
        "import cleantext.clean\n",
        "\n",
        "COMMON_USELESS_INFO:list = [\"UNKNOWN\", \"\", \"...\"]\n",
        "MINIMUM_DOC_LENGTH:int = 24\n",
        "MINIMUM_SUMMARY_LENGTH:int = 16\n",
        "\n",
        "api:object = jk_pypiorgapi.PyPiOrgAPI()\n",
        "\n",
        "PACKAGES:list = api.listAllPackages()\n",
        "\n",
        "def clean_data(text:str) -> str:\n",
        "  return cleantext.clean(\n",
        "      text,\n",
        "      fix_unicode=True,\n",
        "      to_ascii=True,\n",
        "      lower=False,\n",
        "      no_line_breaks=False,\n",
        "      no_urls=False,\n",
        "      no_emails=False,\n",
        "      no_phone_numbers=False,\n",
        "      no_numbers=False,\n",
        "      no_digits=False,\n",
        "      no_currency_symbols=False,\n",
        "      no_punct=False,\n",
        "      #replace_with_punct=\"\",\n",
        "      #replace_with_url=\"<URL>\",\n",
        "      #replace_with_email=\"<EMAIL>\",\n",
        "      #replace_with_phone_number=\"<PHONE>\",\n",
        "      #replace_with_number=\"<NUMBER>\",\n",
        "      #replace_with_digit=\"0\",\n",
        "      #replace_with_currency_symbol=\"<CUR>\",\n",
        "      lang=\"en\"                  \n",
        "    )\n",
        "\n",
        "def fetch_data() -> dict:\n",
        "  \n",
        "  packages_with_info:int = 0\n",
        "  packages_without_info:int = 0  \n",
        "  packages_info:dict = {}\n",
        "\n",
        "  for package in PACKAGES:\n",
        "    \n",
        "    package_name:str = package[1]\n",
        "    package_data:dict = api.getPackageInfoJSON(package_name)\n",
        "\n",
        "    try:\n",
        "      package_info:dict = package_data[\"info\"]\n",
        "      description:str = clean_data(package_info[\"description\"])\n",
        "      summary:str = clean_data(package_info[\"summary\"])\n",
        "      if (\n",
        "          len(description) > MINIMUM_DOC_LENGTH\n",
        "          or len(summary) > MINIMUM_SUMMARY_LENGTH\n",
        "          and description not in COMMON_USELESS_INFO\n",
        "        ):\n",
        "        packages_info[package_name] = {\n",
        "            \"author\":package_info[\"author\"],\n",
        "            \"classifiers\":package_info[\"classifiers\"],\n",
        "            \"description\":description,\n",
        "            \"description_content_type\":package_info[\"description_content_type\"],\n",
        "            \"docs_url\":package_info[\"docs_url\"],\n",
        "            \"home_page\":package_info[\"home_page\"],\n",
        "            \"keywords\":package_info[\"keywords\"],\n",
        "            \"license\":package_info[\"license\"],\n",
        "            \"summary\":summary,\n",
        "            \"requires_python\":package_info[\"requires_python\"],\n",
        "            \"version\":package_info[\"version\"],\n",
        "            \"vulnerabilities\":package_data[\"vulnerabilities\"]\n",
        "        }\n",
        "        packages_with_info += 1\n",
        "        #jk_json.prettyPrint(package_data)\n",
        "        #if packages_with_info >= 10:\n",
        "          #break\n",
        "\n",
        "    except TypeError:\n",
        "      packages_without_info += 1\n",
        "    \n",
        "  return packages_info\n",
        "\n",
        "\n",
        "def save_data(data:dict) -> None: \n",
        "  with open(\"pypi_api.data.json\", \"w\") as fp:\n",
        "    json.dump(data, fp)\n",
        "\n",
        "#print(packages_without_info)\n",
        "#print(packages_with_info)\n",
        "def show_data() -> None:\n",
        "  with open(\"pypi_api.data.json\", \"r\") as fp:\n",
        "    jk_json.prettyPrint(json.load(fp))\n",
        "\n",
        "def main():\n",
        "  data = fetch_data()\n",
        "  save_data(data)\n",
        "  show_data()\n",
        "\n",
        "if __name__ == \"__main__\":\n",
        "  main()"
      ],
      "metadata": {
        "id": "km5mcLDBXDjb"
      },
      "execution_count": null,
      "outputs": []
    }
  ]
}